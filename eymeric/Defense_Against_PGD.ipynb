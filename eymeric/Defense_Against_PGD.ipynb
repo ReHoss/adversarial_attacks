{
  "nbformat": 4,
  "nbformat_minor": 0,
  "metadata": {
    "colab": {
      "name": ">MAIN Projet Science des Données.ipynb",
      "provenance": [],
      "collapsed_sections": []
    },
    "kernelspec": {
      "name": "python3",
      "display_name": "Python 3"
    },
    "accelerator": "GPU"
  },
  "cells": [
    {
      "cell_type": "code",
      "metadata": {
        "id": "QAAo7U4ntZ8a",
        "colab_type": "code",
        "colab": {}
      },
      "source": [
        "from __future__ import absolute_import, division, print_function, unicode_literals\n",
        "\n",
        "import tensorflow as tf\n",
        "\n",
        "from tensorflow.keras.layers import Dense, Flatten, Conv2D, MaxPooling2D, AveragePooling2D, BatchNormalization, Dropout\n",
        "from tensorflow.keras import Model, regularizers"
      ],
      "execution_count": 0,
      "outputs": []
    },
    {
      "cell_type": "code",
      "metadata": {
        "id": "pWX7dIrh9Fko",
        "colab_type": "code",
        "outputId": "a01e40d1-1b3b-41c8-9da1-2a19f9cdc6a3",
        "colab": {
          "base_uri": "https://localhost:8080/",
          "height": 119
        }
      },
      "source": [
        "#Connect to your own Google Drive // Used on Google Colab\n",
        "from google.colab import drive\n",
        "drive.mount('/content/gdrive')\n",
        "%cd \"/content/gdrive/My Drive/DataScienceProjetct/\"\n",
        "!ls"
      ],
      "execution_count": 160,
      "outputs": [
        {
          "output_type": "stream",
          "text": [
            "Drive already mounted at /content/gdrive; to attempt to forcibly remount, call drive.mount(\"/content/gdrive\", force_remount=True).\n",
            "/content/gdrive/My Drive/DataScienceProjetct\n",
            "model0.h5      model3.h5\t    modelQuantitaized.h5  modelRandomNewSeed.h5\n",
            "model1.h5      modelAdvTrained0.h5  modelQuantitized.h5\n",
            "model2.h5      modelAdvTrained1.h5  modelRandomFrom1.h5\n",
            "model3_bis.h5  model.png\t    modelRandom.h5\n"
          ],
          "name": "stdout"
        }
      ]
    },
    {
      "cell_type": "code",
      "metadata": {
        "id": "dvGy-yVHnsNw",
        "colab_type": "code",
        "colab": {}
      },
      "source": [
        "mnist = tf.keras.datasets.mnist\n",
        "cifar = tf.keras.datasets.cifar10\n",
        "\n",
        "dataset = cifar\n",
        "batch_size = 128"
      ],
      "execution_count": 0,
      "outputs": []
    },
    {
      "cell_type": "code",
      "metadata": {
        "id": "HWk7nS2xuFcz",
        "colab_type": "code",
        "colab": {}
      },
      "source": [
        "(x_train, y_train), (x_test, y_test) = dataset.load_data()\n",
        "x_train = x_train.astype('float32')\n",
        "x_test = x_test.astype('float32')\n",
        "x_train, x_test = x_train / 255.0, x_test / 255.0\n",
        "\n",
        "x_test = x_test[0:int(x_test.shape[0]/2)]\n",
        "x_valid = x_test[int(x_test.shape[0]/2):]\n",
        "y_test = y_test[0:int(y_test.shape[0]/2)]\n",
        "y_valid = y_test[int(y_test.shape[0]/2):]\n",
        "\n",
        "train_ds = tf.data.Dataset.from_tensor_slices((x_train, y_train)).batch(batch_size)\n",
        "test_ds = tf.data.Dataset.from_tensor_slices((x_test, y_test)).batch(batch_size)\n",
        "valid_ds = tf.data.Dataset.from_tensor_slices((x_valid, y_valid)).batch(batch_size)"
      ],
      "execution_count": 0,
      "outputs": []
    },
    {
      "cell_type": "code",
      "metadata": {
        "id": "jo7t8SSmF-MM",
        "colab_type": "code",
        "colab": {}
      },
      "source": [
        "from tensorflow.keras import layers\n",
        "\n",
        "# Quantization Custom Layer\n",
        "class Quantization(layers.Layer):\n",
        "\n",
        "  def __init__(self, level=8):\n",
        "    super(Quantization, self).__init__()\n",
        "    self.level = float(level)\n",
        "\n",
        "  def call(self, inputs):\n",
        "    return tf.math.floor(tf.multiply(tf.constant(self.level),inputs))\n",
        "\n",
        "  def get_config(self):\n",
        "    return {'level': self.level}\n",
        "\n",
        "# Dequantization Custom Layer\n",
        "class Dequantization(layers.Layer):\n",
        "\n",
        "  def __init__(self, level=8):\n",
        "    super(Dequantization, self).__init__()\n",
        "    self.level = float(level)\n",
        "\n",
        "  def call(self, inputs):\n",
        "    return tf.multiply(tf.constant(1/self.level),inputs)\n",
        "\n",
        "  def get_config(self):\n",
        "    return {'level': self.level}\n"
      ],
      "execution_count": 0,
      "outputs": []
    },
    {
      "cell_type": "code",
      "metadata": {
        "id": "cvUnaNorAjBw",
        "colab_type": "code",
        "colab": {}
      },
      "source": [
        "cifar10_labels=['airplane','automobile','bird','cat','deer','dog','frog','horse','ship','truck']"
      ],
      "execution_count": 0,
      "outputs": []
    },
    {
      "cell_type": "code",
      "metadata": {
        "id": "hlCDaRYlBxhd",
        "colab_type": "code",
        "colab": {}
      },
      "source": [
        "protecting_layer =  models.Sequential(name='protection') \n",
        "protecting_layer.add(layers.Activation('tanh', input_shape=(32, 32, 3)))\n",
        "protecting_layer.add(Quantization())\n",
        "protecting_layer.add(Dequantization())\n",
        "\n",
        "protecting_layer.compile()"
      ],
      "execution_count": 0,
      "outputs": []
    },
    {
      "cell_type": "code",
      "metadata": {
        "id": "P1VVjeQLRsOV",
        "colab_type": "code",
        "outputId": "c5ed77a7-90ab-4be8-98a8-abd8d032394e",
        "colab": {
          "base_uri": "https://localhost:8080/",
          "height": 697
        }
      },
      "source": [
        "import tensorflow as tf\n",
        "import numpy as np\n",
        "from tensorflow.keras import datasets, layers, models, regularizers\n",
        "import matplotlib.pyplot as plt\n",
        "\n",
        "# Set seeds\n",
        "tf.random.set_seed(18)\n",
        "np.random.seed(18)\n",
        "\n",
        "# Parameters\n",
        "regularization = 1e-4\n",
        "\n",
        "# Define model\n",
        "refmodel = models.Sequential(name='cifar')\n",
        "\n",
        "refmodel.add(layers.Conv2D(32, 3, activation='relu', input_shape=(32, 32, 3), padding='same', kernel_regularizer=regularizers.l2(regularization)))\n",
        "refmodel.add(layers.BatchNormalization())\n",
        "refmodel.add(layers.MaxPooling2D((2, 2)))\n",
        "refmodel.add(layers.Dropout(0.1))\n",
        "refmodel.add(layers.Conv2D(64, 3, activation='relu', padding='same', kernel_regularizer=regularizers.l2(regularization)))\n",
        "refmodel.add(layers.BatchNormalization())\n",
        "refmodel.add(layers.MaxPooling2D((2, 2)))\n",
        "refmodel.add(layers.Dropout(0.2))\n",
        "refmodel.add(layers.Conv2D(128, 3, activation='relu', padding='same', kernel_regularizer=regularizers.l2(regularization)))\n",
        "refmodel.add(layers.MaxPooling2D((2, 2)))\n",
        "refmodel.add(layers.Dropout(0.3))\n",
        "refmodel.add(layers.BatchNormalization())\n",
        "refmodel.add(layers.AveragePooling2D())\n",
        "refmodel.add(layers.Flatten())\n",
        "refmodel.add(layers.Dense(128, activation='relu'))\n",
        "refmodel.add(layers.Dense(10))\n",
        "\n",
        "refmodel.summary()\n",
        "\n",
        "loss = tf.keras.losses.SparseCategoricalCrossentropy(from_logits=True)"
      ],
      "execution_count": 166,
      "outputs": [
        {
          "output_type": "stream",
          "text": [
            "Model: \"cifar\"\n",
            "_________________________________________________________________\n",
            "Layer (type)                 Output Shape              Param #   \n",
            "=================================================================\n",
            "conv2d_9 (Conv2D)            (None, 32, 32, 32)        896       \n",
            "_________________________________________________________________\n",
            "batch_normalization_9 (Batch (None, 32, 32, 32)        128       \n",
            "_________________________________________________________________\n",
            "max_pooling2d_9 (MaxPooling2 (None, 16, 16, 32)        0         \n",
            "_________________________________________________________________\n",
            "dropout_9 (Dropout)          (None, 16, 16, 32)        0         \n",
            "_________________________________________________________________\n",
            "conv2d_10 (Conv2D)           (None, 16, 16, 64)        18496     \n",
            "_________________________________________________________________\n",
            "batch_normalization_10 (Batc (None, 16, 16, 64)        256       \n",
            "_________________________________________________________________\n",
            "max_pooling2d_10 (MaxPooling (None, 8, 8, 64)          0         \n",
            "_________________________________________________________________\n",
            "dropout_10 (Dropout)         (None, 8, 8, 64)          0         \n",
            "_________________________________________________________________\n",
            "conv2d_11 (Conv2D)           (None, 8, 8, 128)         73856     \n",
            "_________________________________________________________________\n",
            "max_pooling2d_11 (MaxPooling (None, 4, 4, 128)         0         \n",
            "_________________________________________________________________\n",
            "dropout_11 (Dropout)         (None, 4, 4, 128)         0         \n",
            "_________________________________________________________________\n",
            "batch_normalization_11 (Batc (None, 4, 4, 128)         512       \n",
            "_________________________________________________________________\n",
            "average_pooling2d_3 (Average (None, 2, 2, 128)         0         \n",
            "_________________________________________________________________\n",
            "flatten_3 (Flatten)          (None, 512)               0         \n",
            "_________________________________________________________________\n",
            "dense_6 (Dense)              (None, 128)               65664     \n",
            "_________________________________________________________________\n",
            "dense_7 (Dense)              (None, 10)                1290      \n",
            "=================================================================\n",
            "Total params: 161,098\n",
            "Trainable params: 160,650\n",
            "Non-trainable params: 448\n",
            "_________________________________________________________________\n"
          ],
          "name": "stdout"
        }
      ]
    },
    {
      "cell_type": "code",
      "metadata": {
        "id": "brfXe8IDvPLs",
        "colab_type": "code",
        "colab": {
          "base_uri": "https://localhost:8080/",
          "height": 980
        },
        "outputId": "b9897920-8b8a-4eaf-8518-a6a7634f6b7a"
      },
      "source": [
        "quantization = False\n",
        "\n",
        "if quantization:\n",
        "  model = tf.keras.models.Sequential(name = 'protected_model')\n",
        "  model.add(protecting_layer)\n",
        "  model.add(refmodel)\n",
        "  model.compile(optimizer='adam',\n",
        "                loss=loss,\n",
        "                metrics=['accuracy'])\n",
        "\n",
        "  history = model.fit(train_ds, epochs=20,\n",
        "                      validation_data=test_ds)\n",
        "  model.save('modelQuantitized.h5')\n",
        "\n",
        "else:\n",
        "\n",
        "  # Compile and fit\n",
        "  model = refmodel\n",
        "  model.compile(optimizer='adam',\n",
        "                loss=loss,\n",
        "                metrics=['accuracy'])\n",
        "\n",
        "  model.save('model0.h5')\n",
        "\n",
        "  history = model.fit(train_ds, epochs=20,\n",
        "                      validation_data=test_ds)\n",
        "  \n",
        "  model.save('model1.h5')\n",
        "\n",
        "# Plot accuracy\n",
        "plt.plot(history.history['accuracy'], label='accuracy')\n",
        "plt.plot(history.history['val_accuracy'], label = 'val_accuracy')\n",
        "plt.xlabel('Epoch')\n",
        "plt.ylabel('Accuracy')\n",
        "plt.ylim([0.5, 1])\n",
        "plt.legend(loc='lower right')\n",
        "\n",
        "test_loss, test_acc = model.evaluate(test_ds, verbose=1)"
      ],
      "execution_count": 167,
      "outputs": [
        {
          "output_type": "stream",
          "text": [
            "Epoch 1/20\n",
            "391/391 [==============================] - 7s 18ms/step - loss: 1.3484 - accuracy: 0.5181 - val_loss: 2.4609 - val_accuracy: 0.2752\n",
            "Epoch 2/20\n",
            "391/391 [==============================] - 7s 17ms/step - loss: 1.0164 - accuracy: 0.6467 - val_loss: 0.9792 - val_accuracy: 0.6684\n",
            "Epoch 3/20\n",
            "391/391 [==============================] - 7s 17ms/step - loss: 0.8874 - accuracy: 0.6912 - val_loss: 0.9173 - val_accuracy: 0.6888\n",
            "Epoch 4/20\n",
            "391/391 [==============================] - 7s 17ms/step - loss: 0.8090 - accuracy: 0.7212 - val_loss: 0.8038 - val_accuracy: 0.7292\n",
            "Epoch 5/20\n",
            "391/391 [==============================] - 7s 17ms/step - loss: 0.7551 - accuracy: 0.7425 - val_loss: 0.7846 - val_accuracy: 0.7410\n",
            "Epoch 6/20\n",
            "391/391 [==============================] - 7s 17ms/step - loss: 0.7112 - accuracy: 0.7589 - val_loss: 0.7253 - val_accuracy: 0.7608\n",
            "Epoch 7/20\n",
            "391/391 [==============================] - 7s 17ms/step - loss: 0.6794 - accuracy: 0.7690 - val_loss: 0.7983 - val_accuracy: 0.7310\n",
            "Epoch 8/20\n",
            "391/391 [==============================] - 7s 17ms/step - loss: 0.6472 - accuracy: 0.7835 - val_loss: 1.0228 - val_accuracy: 0.6700\n",
            "Epoch 9/20\n",
            "391/391 [==============================] - 7s 17ms/step - loss: 0.6249 - accuracy: 0.7911 - val_loss: 0.9352 - val_accuracy: 0.7012\n",
            "Epoch 10/20\n",
            "391/391 [==============================] - 7s 17ms/step - loss: 0.5976 - accuracy: 0.8008 - val_loss: 0.7922 - val_accuracy: 0.7430\n",
            "Epoch 11/20\n",
            "391/391 [==============================] - 7s 17ms/step - loss: 0.5815 - accuracy: 0.8077 - val_loss: 0.7560 - val_accuracy: 0.7540\n",
            "Epoch 12/20\n",
            "391/391 [==============================] - 7s 17ms/step - loss: 0.5631 - accuracy: 0.8144 - val_loss: 0.7239 - val_accuracy: 0.7690\n",
            "Epoch 13/20\n",
            "391/391 [==============================] - 7s 17ms/step - loss: 0.5509 - accuracy: 0.8190 - val_loss: 0.6736 - val_accuracy: 0.7880\n",
            "Epoch 14/20\n",
            "391/391 [==============================] - 7s 17ms/step - loss: 0.5408 - accuracy: 0.8223 - val_loss: 0.7030 - val_accuracy: 0.7810\n",
            "Epoch 15/20\n",
            "391/391 [==============================] - 7s 17ms/step - loss: 0.5221 - accuracy: 0.8315 - val_loss: 0.7911 - val_accuracy: 0.7592\n",
            "Epoch 16/20\n",
            "391/391 [==============================] - 7s 17ms/step - loss: 0.5152 - accuracy: 0.8342 - val_loss: 0.7373 - val_accuracy: 0.7684\n",
            "Epoch 17/20\n",
            "391/391 [==============================] - 7s 17ms/step - loss: 0.5026 - accuracy: 0.8395 - val_loss: 0.6893 - val_accuracy: 0.7842\n",
            "Epoch 18/20\n",
            "391/391 [==============================] - 7s 17ms/step - loss: 0.4974 - accuracy: 0.8415 - val_loss: 0.7238 - val_accuracy: 0.7826\n",
            "Epoch 19/20\n",
            "391/391 [==============================] - 7s 17ms/step - loss: 0.4835 - accuracy: 0.8470 - val_loss: 0.7000 - val_accuracy: 0.7816\n",
            "Epoch 20/20\n",
            "391/391 [==============================] - 7s 17ms/step - loss: 0.4838 - accuracy: 0.8455 - val_loss: 0.7954 - val_accuracy: 0.7598\n",
            "40/40 [==============================] - 0s 6ms/step - loss: 0.7954 - accuracy: 0.7598\n"
          ],
          "name": "stdout"
        },
        {
          "output_type": "display_data",
          "data": {
            "image/png": "[encoded data removed]",
            "text/plain": [
              "<Figure size 432x288 with 1 Axes>"
            ]
          },
          "metadata": {
            "tags": [],
            "needs_background": "light"
          }
        }
      ]
    },
    {
      "cell_type": "code",
      "metadata": {
        "id": "i3hF6rKkF8BC",
        "colab_type": "code",
        "colab": {
          "base_uri": "https://localhost:8080/",
          "height": 51
        },
        "outputId": "0c568b28-692a-4855-ff67-135c6f5d1dfe"
      },
      "source": [
        "model.evaluate(valid_ds, verbose=1)"
      ],
      "execution_count": 168,
      "outputs": [
        {
          "output_type": "stream",
          "text": [
            "20/20 [==============================] - 0s 6ms/step - loss: 0.7785 - accuracy: 0.7616\n"
          ],
          "name": "stdout"
        },
        {
          "output_type": "execute_result",
          "data": {
            "text/plain": [
              "[0.7784903645515442, 0.7616000175476074]"
            ]
          },
          "metadata": {
            "tags": []
          },
          "execution_count": 168
        }
      ]
    },
    {
      "cell_type": "code",
      "metadata": {
        "id": "kuNRRKmN6Sgi",
        "colab_type": "code",
        "colab": {
          "base_uri": "https://localhost:8080/",
          "height": 51
        },
        "outputId": "6863c60d-94e9-476a-d12a-9864ce222658"
      },
      "source": [
        "loss_fn = tf.keras.losses.SparseCategoricalCrossentropy(from_logits=True)\n",
        "\n",
        "@tf.function\n",
        "def adversarial_training(image, label, model = model, loss_object=loss_fn, EPOCHS = 8, epsilon = 0.05, eta = 0.1):\n",
        "  adversarial_image = image\n",
        "  for epoch in range(EPOCHS):\n",
        "    with tf.GradientTape() as tape:\n",
        "      tape.watch(adversarial_image)\n",
        "      prediction = model(adversarial_image, training=False)\n",
        "      loss = loss_object(label, prediction)\n",
        "    gradients = tape.gradient(loss, adversarial_image)\n",
        "    perturbation = tf.clip_by_value(eta*tf.sign(gradients), 0, epsilon)\n",
        "    adversarial_image = tf.add(image, perturbation)\n",
        "  return adversarial_image, perturbation\n",
        "\n",
        "@tf.function\n",
        "def random_adversarial_training(image, label, epsilon = 0.05):\n",
        "    adversarial_image = image  \n",
        "    perturbation = tf.clip_by_value(np.random.normal(0,epsilon), 0, epsilon)\n",
        "    # Need to apply infinte-norm\n",
        "    adversarial_image = tf.add(image, perturbation)\n",
        "    return adversarial_image, perturbation\n",
        "\n",
        "def generate_adv_xy(ds, model = model, loss_object=loss_fn, EPOCHS = 8, epsilon = 0.05, eta = 0.1, attack='pgd'):\n",
        "  if attack == 'pgd':\n",
        "    adv_x = [adversarial_training(images, labels, model, loss_fn, EPOCHS, epsilon, eta)[0] for images, labels in iter(ds)]\n",
        "  elif attack =='random':\n",
        "    adv_x = [random_adversarial_training(images, labels, epsilon)[0] for images, labels in iter(ds)]\n",
        "  adv_x = tf.concat(adv_x,axis=0).numpy()\n",
        "  adv_y = tf.concat([labels for images, labels in iter(ds)],axis=0).numpy()\n",
        "  return adv_x, adv_y\n",
        "\n",
        "def generate_adv_ds(ds, model = model, loss_object=loss_fn, EPOCHS = 8, epsilon = 0.05, eta = 0.1, attack='pgd'):\n",
        "  adv_x, adv_y = generate_adv_xy(ds, model, loss_fn, EPOCHS, epsilon, eta, attack)\n",
        "  adv_ds = tf.data.Dataset.from_tensor_slices(\n",
        "      (adv_x, adv_y)).batch(batch_size)\n",
        "\n",
        "  return adv_ds\n",
        "\n",
        "adv_valid_ds = generate_adv_ds(valid_ds)\n",
        "model.evaluate(adv_valid_ds, verbose=1)"
      ],
      "execution_count": 169,
      "outputs": [
        {
          "output_type": "stream",
          "text": [
            "20/20 [==============================] - 0s 6ms/step - loss: 6.7562 - accuracy: 0.0568\n"
          ],
          "name": "stdout"
        },
        {
          "output_type": "execute_result",
          "data": {
            "text/plain": [
              "[6.756230354309082, 0.0568000003695488]"
            ]
          },
          "metadata": {
            "tags": []
          },
          "execution_count": 169
        }
      ]
    },
    {
      "cell_type": "code",
      "metadata": {
        "id": "8RAXRCSJHmC6",
        "colab_type": "code",
        "colab": {
          "base_uri": "https://localhost:8080/",
          "height": 68
        },
        "outputId": "961615ac-2a0e-4c12-beeb-dd2907e5849b"
      },
      "source": [
        "if quantization:\n",
        "  adv_valid_ds = generate_adv_ds(valid_ds, model=refmodel)\n",
        "else:\n",
        "  adv_valid_ds = generate_adv_ds(valid_ds, model=model)\n",
        "refmodel.evaluate(adv_valid_ds, verbose=1)\n",
        "model.evaluate(adv_valid_ds, verbose=1)"
      ],
      "execution_count": 170,
      "outputs": [
        {
          "output_type": "stream",
          "text": [
            "20/20 [==============================] - 0s 6ms/step - loss: 6.7562 - accuracy: 0.0568\n",
            "20/20 [==============================] - 0s 6ms/step - loss: 6.7562 - accuracy: 0.0568\n"
          ],
          "name": "stdout"
        },
        {
          "output_type": "execute_result",
          "data": {
            "text/plain": [
              "[6.756230354309082, 0.0568000003695488]"
            ]
          },
          "metadata": {
            "tags": []
          },
          "execution_count": 170
        }
      ]
    },
    {
      "cell_type": "markdown",
      "metadata": {
        "id": "RdgzZ9Raker3",
        "colab_type": "text"
      },
      "source": [
        "# **Adversarial Training**"
      ]
    },
    {
      "cell_type": "code",
      "metadata": {
        "id": "Y7x2dBiaJX5n",
        "colab_type": "code",
        "colab": {
          "base_uri": "https://localhost:8080/",
          "height": 697
        },
        "outputId": "cd09e876-2408-42f9-eb5d-c7a3355c2955"
      },
      "source": [
        "model = tf.keras.models.load_model('model0.h5')\n",
        "\n",
        "epochs = 20\n",
        "dataset = train_ds\n",
        "proportion_adv_images = 0.5\n",
        "\n",
        "for epoch in range(epochs):\n",
        "  count = 0\n",
        "  \n",
        "  dataset = train_ds.shuffle(128)\n",
        "  for images, labels in iter(dataset):\n",
        "    index_adv = int(proportion_adv_images*images.shape[0])\n",
        "    adv_x = adversarial_training(images[0:index_adv], labels[0:index_adv], model = model, loss_object=loss_fn, EPOCHS = 8, epsilon = 0.05, eta = 0.1)[0]\n",
        "    adv_y = labels[0:index_adv]\n",
        "    training_batch_images = tf.concat([adv_x,images[index_adv:images.shape[0]]],axis=0)\n",
        "    training_batch_labels = tf.concat([adv_y,labels[index_adv:labels.shape[0]]], axis=0)\n",
        "    result = model.train_on_batch(training_batch_images, training_batch_labels)\n",
        "\n",
        "    if count % 100 == 0:\n",
        "      test_imgs, test_labels = next(iter(test_ds))\n",
        "      test_result = model.test_on_batch(test_imgs, test_labels)\n",
        "    count += 1\n",
        "  print(f'Epoch {epoch+1}/{epochs}')\n",
        "  print(f'{count}/{391} [==============================] - -  loss: {int(result[0]*100)/100} - accuracy: {int(result[1]*100)/100} - val_loss: {int(test_result[0]*100)/100} - val_accuracy: {int(test_result[1]*100)/100}')"
      ],
      "execution_count": 171,
      "outputs": [
        {
          "output_type": "stream",
          "text": [
            "Epoch 1/20\n",
            "391/391 [==============================] - -  loss: 1.59 - accuracy: 0.46 - val_loss: 2.26 - val_accuracy: 0.25\n",
            "Epoch 2/20\n",
            "391/391 [==============================] - -  loss: 1.52 - accuracy: 0.42 - val_loss: 1.1 - val_accuracy: 0.64\n",
            "Epoch 3/20\n",
            "391/391 [==============================] - -  loss: 1.64 - accuracy: 0.43 - val_loss: 0.99 - val_accuracy: 0.7\n",
            "Epoch 4/20\n",
            "391/391 [==============================] - -  loss: 1.41 - accuracy: 0.47 - val_loss: 0.97 - val_accuracy: 0.67\n",
            "Epoch 5/20\n",
            "391/391 [==============================] - -  loss: 1.41 - accuracy: 0.45 - val_loss: 0.95 - val_accuracy: 0.73\n",
            "Epoch 6/20\n",
            "391/391 [==============================] - -  loss: 1.43 - accuracy: 0.46 - val_loss: 1.0 - val_accuracy: 0.66\n",
            "Epoch 7/20\n",
            "391/391 [==============================] - -  loss: 1.27 - accuracy: 0.55 - val_loss: 0.92 - val_accuracy: 0.72\n",
            "Epoch 8/20\n",
            "391/391 [==============================] - -  loss: 1.19 - accuracy: 0.53 - val_loss: 0.87 - val_accuracy: 0.75\n",
            "Epoch 9/20\n",
            "391/391 [==============================] - -  loss: 1.15 - accuracy: 0.57 - val_loss: 0.88 - val_accuracy: 0.75\n",
            "Epoch 10/20\n",
            "391/391 [==============================] - -  loss: 1.22 - accuracy: 0.56 - val_loss: 0.9 - val_accuracy: 0.7\n",
            "Epoch 11/20\n",
            "391/391 [==============================] - -  loss: 1.07 - accuracy: 0.62 - val_loss: 0.85 - val_accuracy: 0.7\n",
            "Epoch 12/20\n",
            "391/391 [==============================] - -  loss: 1.13 - accuracy: 0.62 - val_loss: 0.82 - val_accuracy: 0.72\n",
            "Epoch 13/20\n",
            "391/391 [==============================] - -  loss: 1.12 - accuracy: 0.61 - val_loss: 0.79 - val_accuracy: 0.78\n",
            "Epoch 14/20\n",
            "391/391 [==============================] - -  loss: 1.15 - accuracy: 0.56 - val_loss: 0.83 - val_accuracy: 0.74\n",
            "Epoch 15/20\n",
            "391/391 [==============================] - -  loss: 1.11 - accuracy: 0.6 - val_loss: 0.75 - val_accuracy: 0.77\n",
            "Epoch 16/20\n",
            "391/391 [==============================] - -  loss: 1.18 - accuracy: 0.6 - val_loss: 0.75 - val_accuracy: 0.75\n",
            "Epoch 17/20\n",
            "391/391 [==============================] - -  loss: 1.0 - accuracy: 0.65 - val_loss: 0.76 - val_accuracy: 0.82\n",
            "Epoch 18/20\n",
            "391/391 [==============================] - -  loss: 0.98 - accuracy: 0.64 - val_loss: 0.73 - val_accuracy: 0.78\n",
            "Epoch 19/20\n",
            "391/391 [==============================] - -  loss: 1.03 - accuracy: 0.64 - val_loss: 0.7 - val_accuracy: 0.78\n",
            "Epoch 20/20\n",
            "391/391 [==============================] - -  loss: 1.0 - accuracy: 0.65 - val_loss: 0.69 - val_accuracy: 0.82\n"
          ],
          "name": "stdout"
        }
      ]
    },
    {
      "cell_type": "code",
      "metadata": {
        "id": "zIMQ5NXIxJya",
        "colab_type": "code",
        "colab": {}
      },
      "source": [
        "#model.save('modelAdvTrained0.h5')"
      ],
      "execution_count": 0,
      "outputs": []
    },
    {
      "cell_type": "code",
      "metadata": {
        "id": "X2OaSZcHlZR_",
        "colab_type": "code",
        "colab": {
          "base_uri": "https://localhost:8080/",
          "height": 51
        },
        "outputId": "81f073eb-a3bc-434f-caef-47a507eaf346"
      },
      "source": [
        "model.evaluate(valid_ds, verbose=1)"
      ],
      "execution_count": 173,
      "outputs": [
        {
          "output_type": "stream",
          "text": [
            "20/20 [==============================] - 0s 6ms/step - loss: 0.8092 - accuracy: 0.7352\n"
          ],
          "name": "stdout"
        },
        {
          "output_type": "execute_result",
          "data": {
            "text/plain": [
              "[0.8091651201248169, 0.7351999878883362]"
            ]
          },
          "metadata": {
            "tags": []
          },
          "execution_count": 173
        }
      ]
    },
    {
      "cell_type": "code",
      "metadata": {
        "id": "Vp6cdOcGSIHK",
        "colab_type": "code",
        "colab": {
          "base_uri": "https://localhost:8080/",
          "height": 51
        },
        "outputId": "901c3967-b6ec-474d-bb05-14e8dfb40bc4"
      },
      "source": [
        "adv_valid_ds = generate_adv_ds(valid_ds, model=model)\n",
        "model.evaluate(adv_valid_ds, verbose=1)"
      ],
      "execution_count": 174,
      "outputs": [
        {
          "output_type": "stream",
          "text": [
            "20/20 [==============================] - 0s 6ms/step - loss: 1.5628 - accuracy: 0.4212\n"
          ],
          "name": "stdout"
        },
        {
          "output_type": "execute_result",
          "data": {
            "text/plain": [
              "[1.5627611875534058, 0.4212000072002411]"
            ]
          },
          "metadata": {
            "tags": []
          },
          "execution_count": 174
        }
      ]
    },
    {
      "cell_type": "markdown",
      "metadata": {
        "id": "_AGoDO3W5W0F",
        "colab_type": "text"
      },
      "source": [
        "# **Quantization & Adversarial Training**"
      ]
    },
    {
      "cell_type": "code",
      "metadata": {
        "id": "a4n4icwT5XI4",
        "colab_type": "code",
        "colab": {
          "base_uri": "https://localhost:8080/",
          "height": 714
        },
        "outputId": "a1f906ff-0e6c-4472-84e0-fc7428697339"
      },
      "source": [
        "refmodel = tf.keras.models.load_model('model0.h5')\n",
        "\n",
        "protected_model = tf.keras.models.Sequential(name = 'protected_model')\n",
        "protected_model.add(protecting_layer)\n",
        "protected_model.add(refmodel)\n",
        "protected_model.compile(optimizer='adam',\n",
        "              loss=loss,\n",
        "              metrics=['accuracy'])\n",
        "\n",
        "epochs = 20\n",
        "dataset = train_ds\n",
        "proportion_adv_images = 0.5\n",
        "\n",
        "for epoch in range(epochs):\n",
        "  count = 0\n",
        "  \n",
        "  dataset = train_ds.shuffle(128)\n",
        "  for images, labels in iter(dataset):\n",
        "    index_adv = int(proportion_adv_images*images.shape[0])\n",
        "    adv_x = adversarial_training(images[0:index_adv], labels[0:index_adv], model = refmodel, loss_object=loss_fn, EPOCHS = 8, epsilon = 0.05, eta = 0.1)[0]\n",
        "    adv_y = labels[0:index_adv]\n",
        "    training_batch_images = tf.concat([adv_x,images[index_adv:images.shape[0]]],axis=0)\n",
        "    training_batch_labels = tf.concat([adv_y,labels[index_adv:labels.shape[0]]], axis=0)\n",
        "    result = protected_model.train_on_batch(training_batch_images, training_batch_labels)\n",
        "\n",
        "    if count % 100 == 0:\n",
        "      test_imgs, test_labels = next(iter(test_ds))\n",
        "      test_result = protected_model.test_on_batch(test_imgs, test_labels)\n",
        "    count += 1\n",
        "  print(f'Epoch {epoch+1}/{epochs}')\n",
        "  print(f'{count}/{391} [==============================] - -  loss: {int(result[0]*100)/100} - accuracy: {int(result[1]*100)/100} - val_loss: {int(test_result[0]*100)/100} - val_accuracy: {int(test_result[1]*100)/100}')\n",
        "\n",
        "test_loss, test_acc = protected_model.evaluate(test_ds, verbose=1)"
      ],
      "execution_count": 175,
      "outputs": [
        {
          "output_type": "stream",
          "text": [
            "Epoch 1/20\n",
            "391/391 [==============================] - -  loss: 1.58 - accuracy: 0.47 - val_loss: 0.77 - val_accuracy: 0.74\n",
            "Epoch 2/20\n",
            "391/391 [==============================] - -  loss: 1.36 - accuracy: 0.5 - val_loss: 0.77 - val_accuracy: 0.74\n",
            "Epoch 3/20\n",
            "391/391 [==============================] - -  loss: 1.29 - accuracy: 0.51 - val_loss: 0.77 - val_accuracy: 0.74\n",
            "Epoch 4/20\n",
            "391/391 [==============================] - -  loss: 1.29 - accuracy: 0.53 - val_loss: 0.77 - val_accuracy: 0.74\n",
            "Epoch 5/20\n",
            "391/391 [==============================] - -  loss: 1.21 - accuracy: 0.5 - val_loss: 0.77 - val_accuracy: 0.74\n",
            "Epoch 6/20\n",
            "391/391 [==============================] - -  loss: 1.49 - accuracy: 0.44 - val_loss: 0.77 - val_accuracy: 0.74\n",
            "Epoch 7/20\n",
            "391/391 [==============================] - -  loss: 1.22 - accuracy: 0.57 - val_loss: 0.77 - val_accuracy: 0.74\n",
            "Epoch 8/20\n",
            "391/391 [==============================] - -  loss: 1.18 - accuracy: 0.54 - val_loss: 0.77 - val_accuracy: 0.74\n",
            "Epoch 9/20\n",
            "391/391 [==============================] - -  loss: 1.12 - accuracy: 0.56 - val_loss: 0.77 - val_accuracy: 0.74\n",
            "Epoch 10/20\n",
            "391/391 [==============================] - -  loss: 1.31 - accuracy: 0.52 - val_loss: 0.77 - val_accuracy: 0.74\n",
            "Epoch 11/20\n",
            "391/391 [==============================] - -  loss: 1.23 - accuracy: 0.55 - val_loss: 0.77 - val_accuracy: 0.74\n",
            "Epoch 12/20\n",
            "391/391 [==============================] - -  loss: 1.02 - accuracy: 0.57 - val_loss: 0.77 - val_accuracy: 0.74\n",
            "Epoch 13/20\n",
            "391/391 [==============================] - -  loss: 1.02 - accuracy: 0.61 - val_loss: 0.77 - val_accuracy: 0.74\n",
            "Epoch 14/20\n",
            "391/391 [==============================] - -  loss: 1.13 - accuracy: 0.61 - val_loss: 0.77 - val_accuracy: 0.74\n",
            "Epoch 15/20\n",
            "391/391 [==============================] - -  loss: 1.01 - accuracy: 0.62 - val_loss: 0.77 - val_accuracy: 0.74\n",
            "Epoch 16/20\n",
            "391/391 [==============================] - -  loss: 1.15 - accuracy: 0.58 - val_loss: 0.77 - val_accuracy: 0.74\n",
            "Epoch 17/20\n",
            "391/391 [==============================] - -  loss: 1.14 - accuracy: 0.61 - val_loss: 0.77 - val_accuracy: 0.74\n",
            "Epoch 18/20\n",
            "391/391 [==============================] - -  loss: 0.95 - accuracy: 0.67 - val_loss: 0.77 - val_accuracy: 0.74\n",
            "Epoch 19/20\n",
            "391/391 [==============================] - -  loss: 0.92 - accuracy: 0.67 - val_loss: 0.77 - val_accuracy: 0.74\n",
            "Epoch 20/20\n",
            "391/391 [==============================] - -  loss: 1.05 - accuracy: 0.64 - val_loss: 0.77 - val_accuracy: 0.74\n",
            "40/40 [==============================] - 0s 6ms/step - loss: 0.7986 - accuracy: 0.7356\n"
          ],
          "name": "stdout"
        }
      ]
    },
    {
      "cell_type": "code",
      "metadata": {
        "id": "Bmg7pbt75kg7",
        "colab_type": "code",
        "colab": {
          "base_uri": "https://localhost:8080/",
          "height": 85
        },
        "outputId": "5485aa38-2a0b-4e64-8562-444510608470"
      },
      "source": [
        "protected_model.evaluate(valid_ds, verbose=1)\n",
        "adv_valid_ds = generate_adv_ds(valid_ds, model=refmodel)\n",
        "refmodel.evaluate(adv_valid_ds, verbose=1)\n",
        "protected_model.evaluate(adv_valid_ds, verbose=1)"
      ],
      "execution_count": 176,
      "outputs": [
        {
          "output_type": "stream",
          "text": [
            "20/20 [==============================] - 0s 6ms/step - loss: 0.7931 - accuracy: 0.7428\n",
            "20/20 [==============================] - 0s 6ms/step - loss: 2.0248 - accuracy: 0.3452\n",
            "20/20 [==============================] - 0s 6ms/step - loss: 1.4811 - accuracy: 0.4852\n"
          ],
          "name": "stdout"
        },
        {
          "output_type": "execute_result",
          "data": {
            "text/plain": [
              "[1.481109619140625, 0.4851999878883362]"
            ]
          },
          "metadata": {
            "tags": []
          },
          "execution_count": 176
        }
      ]
    },
    {
      "cell_type": "markdown",
      "metadata": {
        "id": "5kp0Qrfv5jvA",
        "colab_type": "text"
      },
      "source": [
        "# **Result Visualization**"
      ]
    },
    {
      "cell_type": "code",
      "metadata": {
        "id": "_9Yrp5mqxaNu",
        "colab_type": "code",
        "colab": {
          "base_uri": "https://localhost:8080/",
          "height": 542
        },
        "outputId": "4cc1e591-55e6-4645-cb26-4458bb0e4173"
      },
      "source": [
        "import pandas as pd\n",
        "\n",
        "data = {'Reference Model': [0.7803999781608582, 0.0576],\n",
        "        'Quantitized':[0.7796000242233276, 0.26080000400543213],\n",
        "        'AdvTrain': [0.7608000040054321, 0.43639999628067017],\n",
        "        'Quantitized & AdvTrain':[0.7320, 0.5448],\n",
        "        }\n",
        "\n",
        "df = pd.DataFrame(data=data, index=['Clean_Accuracy', 'Adv_Accuracy'])\n",
        "\n",
        "import plotly.graph_objects as go\n",
        "\n",
        "\n",
        "fig = go.Figure()\n",
        "fig.add_trace(go.Bar(y=df.iloc[0].values, x=df.columns, name=\"Clean_Accuracy\"))\n",
        "fig.add_trace(go.Bar(y=df.iloc[1].values, x=df.columns, name=\"Adv_Accuracy\"))\n",
        "\n",
        "fig.show()"
      ],
      "execution_count": 177,
      "outputs": [
        {
          "output_type": "display_data",
          "data": {
            "text/html": [
              "<html>\n",
              "<head><meta charset=\"utf-8\" /></head>\n",
              "<body>\n",
              "    <div>\n",
              "            <script src=\"https://cdnjs.cloudflare.com/ajax/libs/mathjax/2.7.5/MathJax.js?config=TeX-AMS-MML_SVG\"></script><script type=\"text/javascript\">if (window.MathJax) {MathJax.Hub.Config({SVG: {font: \"STIX-Web\"}});}</script>\n",
              "                <script type=\"text/javascript\">window.PlotlyConfig = {MathJaxConfig: 'local'};</script>\n",
              "        <script src=\"https://cdn.plot.ly/plotly-latest.min.js\"></script>    \n",
              "            <div id=\"15de397c-3bd8-4464-b877-f22cac8946d6\" class=\"plotly-graph-div\" style=\"height:525px; width:100%;\"></div>\n",
              "            <script type=\"text/javascript\">\n",
              "                \n",
              "                    window.PLOTLYENV=window.PLOTLYENV || {};\n",
              "                    \n",
              "                if (document.getElementById(\"15de397c-3bd8-4464-b877-f22cac8946d6\")) {\n",
              "                    Plotly.newPlot(\n",
              "                        '15de397c-3bd8-4464-b877-f22cac8946d6',\n",
              "                        [{\"name\": \"Clean_Accuracy\", \"type\": \"bar\", \"x\": [\"Reference Model\", \"Quantitized\", \"AdvTrain\", \"Quantitized & AdvTrain\"], \"y\": [0.7803999781608582, 0.7796000242233276, 0.7608000040054321, 0.732]}, {\"name\": \"Adv_Accuracy\", \"type\": \"bar\", \"x\": [\"Reference Model\", \"Quantitized\", \"AdvTrain\", \"Quantitized & AdvTrain\"], \"y\": [0.0576, 0.26080000400543213, 0.43639999628067017, 0.5448]}],\n",
              "                        {\"template\": {\"data\": {\"bar\": [{\"error_x\": {\"color\": \"#2a3f5f\"}, \"error_y\": {\"color\": \"#2a3f5f\"}, \"marker\": {\"line\": {\"color\": \"#E5ECF6\", \"width\": 0.5}}, \"type\": \"bar\"}], \"barpolar\": [{\"marker\": {\"line\": {\"color\": \"#E5ECF6\", \"width\": 0.5}}, \"type\": \"barpolar\"}], \"carpet\": [{\"aaxis\": {\"endlinecolor\": \"#2a3f5f\", \"gridcolor\": \"white\", \"linecolor\": \"white\", \"minorgridcolor\": \"white\", \"startlinecolor\": \"#2a3f5f\"}, \"baxis\": {\"endlinecolor\": \"#2a3f5f\", \"gridcolor\": \"white\", \"linecolor\": \"white\", \"minorgridcolor\": \"white\", \"startlinecolor\": \"#2a3f5f\"}, \"type\": \"carpet\"}], \"choropleth\": [{\"colorbar\": {\"outlinewidth\": 0, \"ticks\": \"\"}, \"type\": \"choropleth\"}], \"contour\": [{\"colorbar\": {\"outlinewidth\": 0, \"ticks\": \"\"}, \"colorscale\": [[0.0, \"#0d0887\"], [0.1111111111111111, \"#46039f\"], [0.2222222222222222, \"#7201a8\"], [0.3333333333333333, \"#9c179e\"], [0.4444444444444444, \"#bd3786\"], [0.5555555555555556, \"#d8576b\"], [0.6666666666666666, \"#ed7953\"], [0.7777777777777778, \"#fb9f3a\"], [0.8888888888888888, \"#fdca26\"], [1.0, \"#f0f921\"]], \"type\": \"contour\"}], \"contourcarpet\": [{\"colorbar\": {\"outlinewidth\": 0, \"ticks\": \"\"}, \"type\": \"contourcarpet\"}], \"heatmap\": [{\"colorbar\": {\"outlinewidth\": 0, \"ticks\": \"\"}, \"colorscale\": [[0.0, \"#0d0887\"], [0.1111111111111111, \"#46039f\"], [0.2222222222222222, \"#7201a8\"], [0.3333333333333333, \"#9c179e\"], [0.4444444444444444, \"#bd3786\"], [0.5555555555555556, \"#d8576b\"], [0.6666666666666666, \"#ed7953\"], [0.7777777777777778, \"#fb9f3a\"], [0.8888888888888888, \"#fdca26\"], [1.0, \"#f0f921\"]], \"type\": \"heatmap\"}], \"heatmapgl\": [{\"colorbar\": {\"outlinewidth\": 0, \"ticks\": \"\"}, \"colorscale\": [[0.0, \"#0d0887\"], [0.1111111111111111, \"#46039f\"], [0.2222222222222222, \"#7201a8\"], [0.3333333333333333, \"#9c179e\"], [0.4444444444444444, \"#bd3786\"], [0.5555555555555556, \"#d8576b\"], [0.6666666666666666, \"#ed7953\"], [0.7777777777777778, \"#fb9f3a\"], [0.8888888888888888, \"#fdca26\"], [1.0, \"#f0f921\"]], \"type\": \"heatmapgl\"}], \"histogram\": [{\"marker\": {\"colorbar\": {\"outlinewidth\": 0, \"ticks\": \"\"}}, \"type\": \"histogram\"}], \"histogram2d\": [{\"colorbar\": {\"outlinewidth\": 0, \"ticks\": \"\"}, \"colorscale\": [[0.0, \"#0d0887\"], [0.1111111111111111, \"#46039f\"], [0.2222222222222222, \"#7201a8\"], [0.3333333333333333, \"#9c179e\"], [0.4444444444444444, \"#bd3786\"], [0.5555555555555556, \"#d8576b\"], [0.6666666666666666, \"#ed7953\"], [0.7777777777777778, \"#fb9f3a\"], [0.8888888888888888, \"#fdca26\"], [1.0, \"#f0f921\"]], \"type\": \"histogram2d\"}], \"histogram2dcontour\": [{\"colorbar\": {\"outlinewidth\": 0, \"ticks\": \"\"}, \"colorscale\": [[0.0, \"#0d0887\"], [0.1111111111111111, \"#46039f\"], [0.2222222222222222, \"#7201a8\"], [0.3333333333333333, \"#9c179e\"], [0.4444444444444444, \"#bd3786\"], [0.5555555555555556, \"#d8576b\"], [0.6666666666666666, \"#ed7953\"], [0.7777777777777778, \"#fb9f3a\"], [0.8888888888888888, \"#fdca26\"], [1.0, \"#f0f921\"]], \"type\": \"histogram2dcontour\"}], \"mesh3d\": [{\"colorbar\": {\"outlinewidth\": 0, \"ticks\": \"\"}, \"type\": \"mesh3d\"}], \"parcoords\": [{\"line\": {\"colorbar\": {\"outlinewidth\": 0, \"ticks\": \"\"}}, \"type\": \"parcoords\"}], \"pie\": [{\"automargin\": true, \"type\": \"pie\"}], \"scatter\": [{\"marker\": {\"colorbar\": {\"outlinewidth\": 0, \"ticks\": \"\"}}, \"type\": \"scatter\"}], \"scatter3d\": [{\"line\": {\"colorbar\": {\"outlinewidth\": 0, \"ticks\": \"\"}}, \"marker\": {\"colorbar\": {\"outlinewidth\": 0, \"ticks\": \"\"}}, \"type\": \"scatter3d\"}], \"scattercarpet\": [{\"marker\": {\"colorbar\": {\"outlinewidth\": 0, \"ticks\": \"\"}}, \"type\": \"scattercarpet\"}], \"scattergeo\": [{\"marker\": {\"colorbar\": {\"outlinewidth\": 0, \"ticks\": \"\"}}, \"type\": \"scattergeo\"}], \"scattergl\": [{\"marker\": {\"colorbar\": {\"outlinewidth\": 0, \"ticks\": \"\"}}, \"type\": \"scattergl\"}], \"scattermapbox\": [{\"marker\": {\"colorbar\": {\"outlinewidth\": 0, \"ticks\": \"\"}}, \"type\": \"scattermapbox\"}], \"scatterpolar\": [{\"marker\": {\"colorbar\": {\"outlinewidth\": 0, \"ticks\": \"\"}}, \"type\": \"scatterpolar\"}], \"scatterpolargl\": [{\"marker\": {\"colorbar\": {\"outlinewidth\": 0, \"ticks\": \"\"}}, \"type\": \"scatterpolargl\"}], \"scatterternary\": [{\"marker\": {\"colorbar\": {\"outlinewidth\": 0, \"ticks\": \"\"}}, \"type\": \"scatterternary\"}], \"surface\": [{\"colorbar\": {\"outlinewidth\": 0, \"ticks\": \"\"}, \"colorscale\": [[0.0, \"#0d0887\"], [0.1111111111111111, \"#46039f\"], [0.2222222222222222, \"#7201a8\"], [0.3333333333333333, \"#9c179e\"], [0.4444444444444444, \"#bd3786\"], [0.5555555555555556, \"#d8576b\"], [0.6666666666666666, \"#ed7953\"], [0.7777777777777778, \"#fb9f3a\"], [0.8888888888888888, \"#fdca26\"], [1.0, \"#f0f921\"]], \"type\": \"surface\"}], \"table\": [{\"cells\": {\"fill\": {\"color\": \"#EBF0F8\"}, \"line\": {\"color\": \"white\"}}, \"header\": {\"fill\": {\"color\": \"#C8D4E3\"}, \"line\": {\"color\": \"white\"}}, \"type\": \"table\"}]}, \"layout\": {\"annotationdefaults\": {\"arrowcolor\": \"#2a3f5f\", \"arrowhead\": 0, \"arrowwidth\": 1}, \"coloraxis\": {\"colorbar\": {\"outlinewidth\": 0, \"ticks\": \"\"}}, \"colorscale\": {\"diverging\": [[0, \"#8e0152\"], [0.1, \"#c51b7d\"], [0.2, \"#de77ae\"], [0.3, \"#f1b6da\"], [0.4, \"#fde0ef\"], [0.5, \"#f7f7f7\"], [0.6, \"#e6f5d0\"], [0.7, \"#b8e186\"], [0.8, \"#7fbc41\"], [0.9, \"#4d9221\"], [1, \"#276419\"]], \"sequential\": [[0.0, \"#0d0887\"], [0.1111111111111111, \"#46039f\"], [0.2222222222222222, \"#7201a8\"], [0.3333333333333333, \"#9c179e\"], [0.4444444444444444, \"#bd3786\"], [0.5555555555555556, \"#d8576b\"], [0.6666666666666666, \"#ed7953\"], [0.7777777777777778, \"#fb9f3a\"], [0.8888888888888888, \"#fdca26\"], [1.0, \"#f0f921\"]], \"sequentialminus\": [[0.0, \"#0d0887\"], [0.1111111111111111, \"#46039f\"], [0.2222222222222222, \"#7201a8\"], [0.3333333333333333, \"#9c179e\"], [0.4444444444444444, \"#bd3786\"], [0.5555555555555556, \"#d8576b\"], [0.6666666666666666, \"#ed7953\"], [0.7777777777777778, \"#fb9f3a\"], [0.8888888888888888, \"#fdca26\"], [1.0, \"#f0f921\"]]}, \"colorway\": [\"#636efa\", \"#EF553B\", \"#00cc96\", \"#ab63fa\", \"#FFA15A\", \"#19d3f3\", \"#FF6692\", \"#B6E880\", \"#FF97FF\", \"#FECB52\"], \"font\": {\"color\": \"#2a3f5f\"}, \"geo\": {\"bgcolor\": \"white\", \"lakecolor\": \"white\", \"landcolor\": \"#E5ECF6\", \"showlakes\": true, \"showland\": true, \"subunitcolor\": \"white\"}, \"hoverlabel\": {\"align\": \"left\"}, \"hovermode\": \"closest\", \"mapbox\": {\"style\": \"light\"}, \"paper_bgcolor\": \"white\", \"plot_bgcolor\": \"#E5ECF6\", \"polar\": {\"angularaxis\": {\"gridcolor\": \"white\", \"linecolor\": \"white\", \"ticks\": \"\"}, \"bgcolor\": \"#E5ECF6\", \"radialaxis\": {\"gridcolor\": \"white\", \"linecolor\": \"white\", \"ticks\": \"\"}}, \"scene\": {\"xaxis\": {\"backgroundcolor\": \"#E5ECF6\", \"gridcolor\": \"white\", \"gridwidth\": 2, \"linecolor\": \"white\", \"showbackground\": true, \"ticks\": \"\", \"zerolinecolor\": \"white\"}, \"yaxis\": {\"backgroundcolor\": \"#E5ECF6\", \"gridcolor\": \"white\", \"gridwidth\": 2, \"linecolor\": \"white\", \"showbackground\": true, \"ticks\": \"\", \"zerolinecolor\": \"white\"}, \"zaxis\": {\"backgroundcolor\": \"#E5ECF6\", \"gridcolor\": \"white\", \"gridwidth\": 2, \"linecolor\": \"white\", \"showbackground\": true, \"ticks\": \"\", \"zerolinecolor\": \"white\"}}, \"shapedefaults\": {\"line\": {\"color\": \"#2a3f5f\"}}, \"ternary\": {\"aaxis\": {\"gridcolor\": \"white\", \"linecolor\": \"white\", \"ticks\": \"\"}, \"baxis\": {\"gridcolor\": \"white\", \"linecolor\": \"white\", \"ticks\": \"\"}, \"bgcolor\": \"#E5ECF6\", \"caxis\": {\"gridcolor\": \"white\", \"linecolor\": \"white\", \"ticks\": \"\"}}, \"title\": {\"x\": 0.05}, \"xaxis\": {\"automargin\": true, \"gridcolor\": \"white\", \"linecolor\": \"white\", \"ticks\": \"\", \"title\": {\"standoff\": 15}, \"zerolinecolor\": \"white\", \"zerolinewidth\": 2}, \"yaxis\": {\"automargin\": true, \"gridcolor\": \"white\", \"linecolor\": \"white\", \"ticks\": \"\", \"title\": {\"standoff\": 15}, \"zerolinecolor\": \"white\", \"zerolinewidth\": 2}}}},\n",
              "                        {\"responsive\": true}\n",
              "                    ).then(function(){\n",
              "                            \n",
              "var gd = document.getElementById('15de397c-3bd8-4464-b877-f22cac8946d6');\n",
              "var x = new MutationObserver(function (mutations, observer) {{\n",
              "        var display = window.getComputedStyle(gd).display;\n",
              "        if (!display || display === 'none') {{\n",
              "            console.log([gd, 'removed!']);\n",
              "            Plotly.purge(gd);\n",
              "            observer.disconnect();\n",
              "        }}\n",
              "}});\n",
              "\n",
              "// Listen for the removal of the full notebook cells\n",
              "var notebookContainer = gd.closest('#notebook-container');\n",
              "if (notebookContainer) {{\n",
              "    x.observe(notebookContainer, {childList: true});\n",
              "}}\n",
              "\n",
              "// Listen for the clearing of the current output cell\n",
              "var outputEl = gd.closest('.output');\n",
              "if (outputEl) {{\n",
              "    x.observe(outputEl, {childList: true});\n",
              "}}\n",
              "\n",
              "                        })\n",
              "                };\n",
              "                \n",
              "            </script>\n",
              "        </div>\n",
              "</body>\n",
              "</html>"
            ]
          },
          "metadata": {
            "tags": []
          }
        }
      ]
    },
    {
      "cell_type": "code",
      "metadata": {
        "id": "r1WC0uuS8rNa",
        "colab_type": "code",
        "colab": {
          "base_uri": "https://localhost:8080/",
          "height": 934
        },
        "outputId": "fa8ba7a9-e302-4adb-feaf-2b99ae837c0b"
      },
      "source": [
        "import matplotlib.pyplot as plt\n",
        "model = tf.keras.models.load_model('model1.h5')\n",
        "select = 1\n",
        "\n",
        "images, labels = next(iter(valid_ds))\n",
        "image = images[select:select+1]\n",
        "label = labels[select:select+1]\n",
        "\n",
        "adversarial_image, perturbation = adversarial_training(image, label, model = model)\n",
        "initial_pred = cifar10_labels[model(image, training=False).numpy().argmax()]\n",
        "adversarial_pred = cifar10_labels[model(adversarial_image, training=False).numpy().argmax()]\n",
        "\n",
        "print(f'Initital prediction was {initial_pred}, adversarial prediction is {adversarial_pred}')\n",
        "print(' ')\n",
        "print('Initial Image')\n",
        "print('-------------')\n",
        "plt.imshow(tf.squeeze(image))\n",
        "plt.show()\n",
        "\n",
        "print(' ')\n",
        "print('Perturbation')\n",
        "print('------------')\n",
        "plt.imshow(tf.squeeze(perturbation))\n",
        "plt.show()\n",
        "\n",
        "print(' ')\n",
        "print('Adversarial Image')\n",
        "print('-----------------')\n",
        "plt.imshow(tf.squeeze(adversarial_image))\n",
        "plt.show()"
      ],
      "execution_count": 179,
      "outputs": [
        {
          "output_type": "stream",
          "text": [
            "Initital prediction was deer, adversarial prediction is frog\n",
            " \n",
            "Initial Image\n",
            "-------------\n"
          ],
          "name": "stdout"
        },
        {
          "output_type": "display_data",
          "data": {
            "image/png": "[encoded data removed]",
            "text/plain": [
              "<Figure size 432x288 with 1 Axes>"
            ]
          },
          "metadata": {
            "tags": [],
            "needs_background": "light"
          }
        },
        {
          "output_type": "stream",
          "text": [
            " \n",
            "Perturbation\n",
            "------------\n"
          ],
          "name": "stdout"
        },
        {
          "output_type": "display_data",
          "data": {
            "image/png": "[encoded data removed]",
            "text/plain": [
              "<Figure size 432x288 with 1 Axes>"
            ]
          },
          "metadata": {
            "tags": [],
            "needs_background": "light"
          }
        },
        {
          "output_type": "stream",
          "text": [
            " \n",
            "Adversarial Image\n",
            "-----------------\n"
          ],
          "name": "stdout"
        },
        {
          "output_type": "display_data",
          "data": {
            "image/png": "[encoded data removed]",
            "text/plain": [
              "<Figure size 432x288 with 1 Axes>"
            ]
          },
          "metadata": {
            "tags": [],
            "needs_background": "light"
          }
        }
      ]
    },
    {
      "cell_type": "code",
      "metadata": {
        "id": "GbHJPwItd7R6",
        "colab_type": "code",
        "colab": {}
      },
      "source": [
        "# TO DO LIST\n",
        "# Invert name Test - Validation set\n",
        "# Validation set for adversarial training should be 50/50 adversarial training"
      ],
      "execution_count": 0,
      "outputs": []
    }
  ]
}