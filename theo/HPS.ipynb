{
 "cells": [
  {
   "cell_type": "code",
   "execution_count": 5,
   "metadata": {},
   "outputs": [],
   "source": [
    "import hiplot as hip\n",
    "import tensorflow as tf\n",
    "from tensorflow.keras.datasets import cifar10\n",
    "from tensorflow.keras.models import load_model\n",
    "from tensorflow.keras.losses import SparseCategoricalCrossentropy\n",
    "from attack import fgsm, pgd"
   ]
  },
  {
   "cell_type": "code",
   "execution_count": 10,
   "metadata": {},
   "outputs": [],
   "source": [
    "(_, _), (X_test, y_test) = cifar10.load_data()\n",
    "X_test = X_test/255.0"
   ]
  },
  {
   "cell_type": "code",
   "execution_count": 11,
   "metadata": {},
   "outputs": [
    {
     "name": "stdout",
     "output_type": "stream",
     "text": [
      "10000/10000 [==============================] - 2s 196us/sample - loss: 2.0733 - accuracy: 0.6653\n"
     ]
    }
   ],
   "source": [
    "model = load_model(\"model_20200418-172129\")\n",
    "loss = SparseCategoricalCrossentropy(from_logits=True)\n",
    "test_loss, test_acc = model.evaluate(X_test, y_test)"
   ]
  },
  {
   "cell_type": "code",
   "execution_count": 4,
   "metadata": {},
   "outputs": [],
   "source": [
    "epsilons = [0.5, 0.1, 0.05, 0.01, 0.005, 0.001]"
   ]
  },
  {
   "cell_type": "code",
   "execution_count": 26,
   "metadata": {},
   "outputs": [
    {
     "name": "stdout",
     "output_type": "stream",
     "text": [
      "0.5\n",
      "10000/10000 [==============================] - 2s 245us/sample - loss: 29.7436 - accuracy: 0.0827\n",
      "0.1\n",
      "10000/10000 [==============================] - 2s 205us/sample - loss: 23.1333 - accuracy: 0.0522\n",
      "0.05\n",
      "10000/10000 [==============================] - 2s 205us/sample - loss: 20.7911 - accuracy: 0.0690\n",
      "0.01\n",
      "10000/10000 [==============================] - 2s 211us/sample - loss: 7.9391 - accuracy: 0.2544\n",
      "0.005\n",
      "10000/10000 [==============================] - 2s 232us/sample - loss: 4.9117 - accuracy: 0.4122\n",
      "0.001\n",
      "10000/10000 [==============================] - 2s 224us/sample - loss: 2.5774 - accuracy: 0.6051\n"
     ]
    }
   ],
   "source": [
    "hp = []\n",
    "for eps in epsilons:\n",
    "    print(eps)\n",
    "    X_adv = fgsm(X_test, y_test, model, loss, eps)\n",
    "    adv_loss, adv_acc = model.evaluate(X_adv, y_test)\n",
    "    hp.append({\"epsilon\": str(eps), \"loss\": str(adv_loss), \"accuracy\": str(adv_acc)})"
   ]
  },
  {
   "cell_type": "code",
   "execution_count": 30,
   "metadata": {},
   "outputs": [
    {
     "data": {
      "text/html": [
       "<!DOCTYPE html>\n",
       "<html>\n",
       "  <head>\n",
       "    <meta http-equiv=\"Content-Type\" content=\"text/html;charset=utf-8\"/>\n",
       "    <title>HiPlot</title>\n",
       "    <link rel=\"icon\" href=\"static/icon.png\" />\n",
       "  </head>\n",
       "  <body style=\"margin:0px\">\n",
       "    <div id=\"hiplot_aee1997df44747d39ae57a8f980be5bd\" style=\"background-color: white\"><div style=\"text-align: center\">Loading HiPlot...</div>\n",
       "      <noscript>\n",
       "        HiPlot needs JavaScript to run\n",
       "      </noscript>\n",
       "    </div>\n",
       "\n",
       "    <script  type=\"text/javascript\" ></script>\n",
       "    <script type=\"text/javascript\">\n",
       "    function _hiplot_setup() {\n",
       "      if (typeof hiplot_setup == \"undefined\") {\n",
       "        console.info(\"waiting for HiPlot bundle to be loaded...\");\n",
       "        setTimeout(_hiplot_setup, 1000);\n",
       "        return;\n",
       "      }\n",
       "      var options = {\n",
       "        is_webserver: true,\n",
       "      };\n",
       "      /*ON_LOAD_SCRIPT_INJECT*/\n",
       "const comm_id = \"comm_c68b97\";\n",
       "try {\n",
       "    console.log(\"Setting up communication channel with Jupyter: \", comm_id);\n",
       "    var comm = Jupyter.notebook.kernel.comm_manager.new_comm(comm_id, {'type': 'hello'});\n",
       "    Object.assign(options, {\"comm\": comm});\n",
       "}\n",
       "catch(err) {\n",
       "    console.warn('Unable to create Javascript <-> Python communication channel' +\n",
       "        ' (are you in a Jupyter notebook? Jupyter labs is *not* supported!)');\n",
       "}\n",
       "        \n",
       "        Object.assign(options, eval('(' + \"{\\\"is_webserver\\\": false, \\\"experiment\\\": {\\\"datapoints\\\": [{\\\"uid\\\": \\\"0\\\", \\\"values\\\": {\\\"epsilon\\\": \\\"0.5\\\", \\\"loss\\\": \\\"29.743599688720703\\\", \\\"accuracy\\\": \\\"0.0827\\\"}, \\\"from_uid\\\": null}, {\\\"uid\\\": \\\"1\\\", \\\"values\\\": {\\\"epsilon\\\": \\\"0.1\\\", \\\"loss\\\": \\\"23.13330704650879\\\", \\\"accuracy\\\": \\\"0.0522\\\"}, \\\"from_uid\\\": null}, {\\\"uid\\\": \\\"2\\\", \\\"values\\\": {\\\"epsilon\\\": \\\"0.05\\\", \\\"loss\\\": \\\"20.79106404724121\\\", \\\"accuracy\\\": \\\"0.069\\\"}, \\\"from_uid\\\": null}, {\\\"uid\\\": \\\"3\\\", \\\"values\\\": {\\\"epsilon\\\": \\\"0.01\\\", \\\"loss\\\": \\\"7.939134004211426\\\", \\\"accuracy\\\": \\\"0.2544\\\"}, \\\"from_uid\\\": null}, {\\\"uid\\\": \\\"4\\\", \\\"values\\\": {\\\"epsilon\\\": \\\"0.005\\\", \\\"loss\\\": \\\"4.911687187194824\\\", \\\"accuracy\\\": \\\"0.4122\\\"}, \\\"from_uid\\\": null}, {\\\"uid\\\": \\\"5\\\", \\\"values\\\": {\\\"epsilon\\\": \\\"0.001\\\", \\\"loss\\\": \\\"2.577446537399292\\\", \\\"accuracy\\\": \\\"0.6051\\\"}, \\\"from_uid\\\": null}], \\\"parameters_definition\\\": {}, \\\"_displays\\\": {\\\"PARALLEL_PLOT\\\": {}, \\\"TABLE\\\": {}, \\\"XY\\\": {}}}, \\\"persistent_state\\\": null}\" + ')'));\n",
       "        \n",
       "      var hiplot_instance = hiplot_setup(document.getElementById(\"hiplot_aee1997df44747d39ae57a8f980be5bd\"), options);\n",
       "      /*AFTER_SETUP_SCRIPT_INJECT*/\n",
       "    }\n",
       "    if (document.readyState == \"complete\") {\n",
       "      _hiplot_setup();\n",
       "    }\n",
       "    else {\n",
       "      document.addEventListener(\"DOMContentLoaded\", _hiplot_setup);\n",
       "    }\n",
       "    </script>\n",
       "  </body>\n",
       "</html>"
      ],
      "text/plain": [
       "<IPython.core.display.HTML object>"
      ]
     },
     "metadata": {},
     "output_type": "display_data"
    },
    {
     "data": {
      "text/plain": [
       "<hiplot.ipython.IPythonExperimentDisplayed at 0x147a8d940>"
      ]
     },
     "execution_count": 30,
     "metadata": {},
     "output_type": "execute_result"
    }
   ],
   "source": [
    "hip.Experiment.from_iterable(hp).display()"
   ]
  },
  {
   "cell_type": "code",
   "execution_count": 71,
   "metadata": {},
   "outputs": [],
   "source": [
    "model_small = load_model(\"model_20200419-140515\")\n",
    "model_large = load_model(\"model_20200419-160722\")\n",
    "model_small_stop = load_model(\"model_20200419-132133\")\n",
    "model_large_stop = load_model(\"model_20200419-155619\")\n",
    "model_large_dropout = load_model(\"model_20200419-172408\")"
   ]
  },
  {
   "cell_type": "code",
   "execution_count": 72,
   "metadata": {},
   "outputs": [
    {
     "name": "stdout",
     "output_type": "stream",
     "text": [
      "10000/10000 [==============================] - 2s 221us/sample - loss: 0.7205 - accuracy: 0.7536\n"
     ]
    },
    {
     "data": {
      "text/plain": [
       "[0.720483455657959, 0.7536]"
      ]
     },
     "execution_count": 72,
     "metadata": {},
     "output_type": "execute_result"
    }
   ],
   "source": [
    "model_large_dropout.evaluate(X_test, y_test)"
   ]
  },
  {
   "cell_type": "code",
   "execution_count": 56,
   "metadata": {
    "scrolled": true
   },
   "outputs": [
    {
     "name": "stdout",
     "output_type": "stream",
     "text": [
      "10000/10000 [==============================] - 2s 204us/sample - loss: 0.8632 - accuracy: 0.7156\n"
     ]
    },
    {
     "data": {
      "text/plain": [
       "[0.8631660588264465, 0.7156]"
      ]
     },
     "execution_count": 56,
     "metadata": {},
     "output_type": "execute_result"
    }
   ],
   "source": [
    "model_small_stop.evaluate(X_test, y_test)"
   ]
  },
  {
   "cell_type": "code",
   "execution_count": 57,
   "metadata": {
    "scrolled": true
   },
   "outputs": [
    {
     "name": "stdout",
     "output_type": "stream",
     "text": [
      "10000/10000 [==============================] - 2s 201us/sample - loss: 0.9770 - accuracy: 0.7133\n"
     ]
    },
    {
     "data": {
      "text/plain": [
       "[0.9769994569778442, 0.7133]"
      ]
     },
     "execution_count": 57,
     "metadata": {},
     "output_type": "execute_result"
    }
   ],
   "source": [
    "model_small.evaluate(X_test, y_test)"
   ]
  },
  {
   "cell_type": "code",
   "execution_count": 59,
   "metadata": {},
   "outputs": [
    {
     "name": "stdout",
     "output_type": "stream",
     "text": [
      "10000/10000 [==============================] - 4s 393us/sample - loss: 0.8611 - accuracy: 0.7121\n"
     ]
    },
    {
     "data": {
      "text/plain": [
       "[0.8611340776443481, 0.7121]"
      ]
     },
     "execution_count": 59,
     "metadata": {},
     "output_type": "execute_result"
    }
   ],
   "source": [
    "model_large_stop.evaluate(X_test, y_test)"
   ]
  },
  {
   "cell_type": "code",
   "execution_count": 60,
   "metadata": {},
   "outputs": [
    {
     "name": "stdout",
     "output_type": "stream",
     "text": [
      "10000/10000 [==============================] - 4s 413us/sample - loss: 1.6140 - accuracy: 0.7072\n"
     ]
    },
    {
     "data": {
      "text/plain": [
       "[1.6140296228408813, 0.7072]"
      ]
     },
     "execution_count": 60,
     "metadata": {},
     "output_type": "execute_result"
    }
   ],
   "source": [
    "model_large.evaluate(X_test, y_test)"
   ]
  },
  {
   "cell_type": "code",
   "execution_count": null,
   "metadata": {},
   "outputs": [],
   "source": []
  },
  {
   "cell_type": "code",
   "execution_count": null,
   "metadata": {},
   "outputs": [],
   "source": []
  },
  {
   "cell_type": "code",
   "execution_count": 68,
   "metadata": {},
   "outputs": [],
   "source": [
    "eps = 0.03\n",
    "X_adv_small = fgsm(X_test, y_test, model_small, loss, eps)\n",
    "X_adv_small_stop = fgsm(X_test, y_test, model_small_stop, loss, eps)\n",
    "X_adv_large = fgsm(X_test, y_test, model_large, loss, eps)\n",
    "X_adv_large_stop = fgsm(X_test, y_test, model_large_stop, loss, eps)\n",
    "X_adv_large_dropout = fgsm(X_test, y_test, model_large_dropout, loss, eps)"
   ]
  },
  {
   "cell_type": "code",
   "execution_count": 70,
   "metadata": {},
   "outputs": [
    {
     "name": "stdout",
     "output_type": "stream",
     "text": [
      "10000/10000 [==============================] - 2s 217us/sample - loss: 6.2085 - accuracy: 0.0633\n"
     ]
    },
    {
     "data": {
      "text/plain": [
       "[6.2084951477050785, 0.0633]"
      ]
     },
     "execution_count": 70,
     "metadata": {},
     "output_type": "execute_result"
    }
   ],
   "source": [
    "model_large_dropout.evaluate(X_adv_large_dropout, y_test)"
   ]
  },
  {
   "cell_type": "code",
   "execution_count": 63,
   "metadata": {
    "scrolled": true
   },
   "outputs": [
    {
     "name": "stdout",
     "output_type": "stream",
     "text": [
      "10000/10000 [==============================] - 4s 395us/sample - loss: 16.6171 - accuracy: 0.0926\n"
     ]
    },
    {
     "data": {
      "text/plain": [
       "[16.61712585144043, 0.0926]"
      ]
     },
     "execution_count": 63,
     "metadata": {},
     "output_type": "execute_result"
    }
   ],
   "source": [
    "model_large.evaluate(X_adv_large, y_test)"
   ]
  },
  {
   "cell_type": "code",
   "execution_count": 62,
   "metadata": {},
   "outputs": [
    {
     "name": "stdout",
     "output_type": "stream",
     "text": [
      "10000/10000 [==============================] - 4s 415us/sample - loss: 5.3929 - accuracy: 0.0561\n"
     ]
    },
    {
     "data": {
      "text/plain": [
       "[5.392941564941406, 0.0561]"
      ]
     },
     "execution_count": 62,
     "metadata": {},
     "output_type": "execute_result"
    }
   ],
   "source": [
    "model_large_stop.evaluate(X_adv_large_stop, y_test)"
   ]
  },
  {
   "cell_type": "code",
   "execution_count": 64,
   "metadata": {},
   "outputs": [
    {
     "name": "stdout",
     "output_type": "stream",
     "text": [
      "10000/10000 [==============================] - 2s 239us/sample - loss: 7.0627 - accuracy: 0.0363\n"
     ]
    },
    {
     "data": {
      "text/plain": [
       "[7.062680601501465, 0.0363]"
      ]
     },
     "execution_count": 64,
     "metadata": {},
     "output_type": "execute_result"
    }
   ],
   "source": [
    "model_small_stop.evaluate(X_adv_small_stop, y_test)"
   ]
  },
  {
   "cell_type": "code",
   "execution_count": 65,
   "metadata": {},
   "outputs": [
    {
     "name": "stdout",
     "output_type": "stream",
     "text": [
      "10000/10000 [==============================] - 2s 235us/sample - loss: 9.7268 - accuracy: 0.0276\n"
     ]
    },
    {
     "data": {
      "text/plain": [
       "[9.726773637390137, 0.0276]"
      ]
     },
     "execution_count": 65,
     "metadata": {},
     "output_type": "execute_result"
    }
   ],
   "source": [
    "model_small.evaluate(X_adv_small, y_test)"
   ]
  },
  {
   "cell_type": "code",
   "execution_count": null,
   "metadata": {},
   "outputs": [],
   "source": []
  }
 ],
 "metadata": {
  "kernelspec": {
   "display_name": "Python 3",
   "language": "python",
   "name": "python3"
  },
  "language_info": {
   "codemirror_mode": {
    "name": "ipython",
    "version": 3
   },
   "file_extension": ".py",
   "mimetype": "text/x-python",
   "name": "python",
   "nbconvert_exporter": "python",
   "pygments_lexer": "ipython3",
   "version": "3.6.8"
  }
 },
 "nbformat": 4,
 "nbformat_minor": 4
}
