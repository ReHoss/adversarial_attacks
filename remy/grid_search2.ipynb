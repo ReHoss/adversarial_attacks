{
 "cells": [
  {
   "cell_type": "markdown",
   "metadata": {},
   "source": [
    "# Grid Search"
   ]
  },
  {
   "cell_type": "code",
   "execution_count": 1,
   "metadata": {},
   "outputs": [],
   "source": [
    "import numpy as np\n",
    "import tensorflow as tf\n",
    "import itertools\n",
    "import pandas as pd\n",
    "# Own library\n",
    "import test2\n",
    "# Needed to clean memory\n",
    "import gc\n",
    "\n",
    "# To modify scipts remotly\n",
    "%load_ext autoreload\n",
    "%autoreload 2"
   ]
  },
  {
   "cell_type": "code",
   "execution_count": 2,
   "metadata": {},
   "outputs": [],
   "source": [
    "np.random.seed(94)\n",
    "tf.random.set_seed(94)\n",
    "(_, _), (x_test, y_test) = tf.keras.datasets.cifar10.load_data()\n",
    "x_test = x_test / 255.0\n",
    "x_test, y_test = tf.constant(x_test), tf.constant(y_test)\n",
    "\n",
    "n = 2\n",
    "x_test = x_test[:n]\n",
    "y_test = tf.squeeze(tf.one_hot(y_test[:n], 10))"
   ]
  },
  {
   "cell_type": "code",
   "execution_count": 3,
   "metadata": {},
   "outputs": [],
   "source": [
    "path = 'data/model_cifar.h5'\n",
    "model = tf.keras.models.load_model(path)"
   ]
  },
  {
   "cell_type": "code",
   "execution_count": 4,
   "metadata": {},
   "outputs": [],
   "source": [
    "# Parameter space\n",
    "list_eta = np.append(np.power(0.1, [1, 2, 3, 4]), 1/255)\n",
    "list_epsilon = np.append(np.power(0.1, [0, 1, 2, 3, 4]), 1/255)\n",
    "list_n_steps = np.arange(1, 10, 2)\n",
    "list_losses = [tf.keras.losses.MeanSquaredError(),\n",
    "               tf.keras.losses.CategoricalCrossentropy(),\n",
    "               tf.keras.losses.KLDivergence()]\n",
    "\n",
    "list_methods = [test2.pgd_infinity, test2.pgd_ininity_random]\n",
    "\n",
    "# Generate parameters grid\n",
    "iter_parameters_grid = itertools.product(list_methods, list_eta, list_epsilon, list_n_steps, list_losses)\n",
    "\n",
    "\n",
    "# Names of methods\n",
    "list_method_names = ['pgd_infinity', 'pgd_random']"
   ]
  },
  {
   "cell_type": "code",
   "execution_count": null,
   "metadata": {
    "scrolled": false
   },
   "outputs": [
    {
     "name": "stdout",
     "output_type": "stream",
     "text": [
      "2/2 [==============================] - 0s 79ms/sample - loss: 11.3484 - accuracy: 0.0000e+00\n",
      "2/2 [==============================] - 0s 20ms/sample - loss: 11.3173 - accuracy: 0.0000e+00\n",
      "2/2 [==============================] - 0s 16ms/sample - loss: 11.3173 - accuracy: 0.0000e+00\n",
      "2/2 [==============================] - 0s 3ms/sample - loss: 36.1570 - accuracy: 0.0000e+00\n",
      "2/2 [==============================] - 0s 18ms/sample - loss: 38.4699 - accuracy: 0.0000e+00\n",
      "2/2 [==============================] - 0s 14ms/sample - loss: 28.3649 - accuracy: 0.0000e+00\n",
      "2/2 [==============================] - 0s 7ms/sample - loss: 59.2826 - accuracy: 0.0000e+00\n",
      "2/2 [==============================] - 0s 13ms/sample - loss: 38.4699 - accuracy: 0.0000e+00\n",
      "2/2 [==============================] - 0s 13ms/sample - loss: 46.3211 - accuracy: 0.0000e+00\n",
      "2/2 [==============================] - 0s 14ms/sample - loss: 60.6562 - accuracy: 0.0000e+00\n",
      "2/2 [==============================] - 0s 5ms/sample - loss: 38.4699 - accuracy: 0.0000e+00\n",
      "2/2 [==============================] - 0s 6ms/sample - loss: 60.1786 - accuracy: 0.0000e+00\n",
      "2/2 [==============================] - 0s 37ms/sample - loss: 74.6272 - accuracy: 0.0000e+00\n",
      "2/2 [==============================] - 0s 11ms/sample - loss: 38.4699 - accuracy: 0.0000e+00\n",
      "2/2 [==============================] - 0s 5ms/sample - loss: 70.6467 - accuracy: 0.0000e+00\n",
      "2/2 [==============================] - 0s 2ms/sample - loss: 1.5741 - accuracy: 0.5000\n",
      "2/2 [==============================] - 0s 5ms/sample - loss: 1.5752 - accuracy: 0.5000\n",
      "2/2 [==============================] - 0s 2ms/sample - loss: 1.5752 - accuracy: 0.5000\n",
      "2/2 [==============================] - 0s 12ms/sample - loss: 7.5685 - accuracy: 0.0000e+00\n",
      "2/2 [==============================] - 0s 14ms/sample - loss: 7.5824 - accuracy: 0.0000e+00\n",
      "2/2 [==============================] - 0s 13ms/sample - loss: 7.5824 - accuracy: 0.0000e+00\n",
      "2/2 [==============================] - 0s 6ms/sample - loss: 14.3251 - accuracy: 0.0000e+00\n",
      "2/2 [==============================] - 0s 8ms/sample - loss: 16.3221 - accuracy: 0.0000e+00\n",
      "2/2 [==============================] - 0s 19ms/sample - loss: 16.3221 - accuracy: 0.0000e+00\n",
      "2/2 [==============================] - 0s 5ms/sample - loss: 22.1452 - accuracy: 0.0000e+00\n",
      "2/2 [==============================] - 0s 11ms/sample - loss: 18.4666 - accuracy: 0.0000e+00\n",
      "2/2 [==============================] - 0s 8ms/sample - loss: 19.6388 - accuracy: 0.0000e+00\n",
      "2/2 [==============================] - 0s 16ms/sample - loss: 26.9112 - accuracy: 0.0000e+00\n",
      "2/2 [==============================] - 0s 13ms/sample - loss: 18.4666 - accuracy: 0.0000e+00\n",
      "2/2 [==============================] - 0s 9ms/sample - loss: 22.1243 - accuracy: 0.0000e+00\n",
      "2/2 [==============================] - 0s 4ms/sample - loss: 1.5741 - accuracy: 0.5000\n",
      "2/2 [==============================] - 0s 12ms/sample - loss: 1.5752 - accuracy: 0.5000\n",
      "2/2 [==============================] - 0s 6ms/sample - loss: 1.5752 - accuracy: 0.5000\n",
      "2/2 [==============================] - 0s 13ms/sample - loss: 7.5685 - accuracy: 0.0000e+00\n",
      "2/2 [==============================] - 0s 11ms/sample - loss: 7.5824 - accuracy: 0.0000e+00\n",
      "2/2 [==============================] - 0s 16ms/sample - loss: 7.5824 - accuracy: 0.0000e+00\n",
      "2/2 [==============================] - 0s 5ms/sample - loss: 14.3251 - accuracy: 0.0000e+00\n",
      "2/2 [==============================] - 0s 6ms/sample - loss: 16.3221 - accuracy: 0.0000e+00\n",
      "2/2 [==============================] - 0s 15ms/sample - loss: 16.3221 - accuracy: 0.0000e+00\n",
      "2/2 [==============================] - 0s 14ms/sample - loss: 22.1452 - accuracy: 0.0000e+00\n",
      "2/2 [==============================] - 0s 10ms/sample - loss: 18.4666 - accuracy: 0.0000e+00\n",
      "2/2 [==============================] - 0s 5ms/sample - loss: 19.6388 - accuracy: 0.0000e+00\n",
      "2/2 [==============================] - 0s 2ms/sample - loss: 26.9112 - accuracy: 0.0000e+00\n",
      "2/2 [==============================] - 0s 6ms/sample - loss: 18.4666 - accuracy: 0.0000e+00\n",
      "2/2 [==============================] - 0s 3ms/sample - loss: 22.1243 - accuracy: 0.0000e+00\n",
      "2/2 [==============================] - 0s 20ms/sample - loss: 0.2290 - accuracy: 1.0000\n",
      "2/2 [==============================] - 0s 15ms/sample - loss: 0.2290 - accuracy: 1.0000\n",
      "2/2 [==============================] - 0s 11ms/sample - loss: 0.2290 - accuracy: 1.0000\n",
      "2/2 [==============================] - 0s 25ms/sample - loss: 0.4757 - accuracy: 0.5000\n",
      "2/2 [==============================] - 0s 14ms/sample - loss: 0.4752 - accuracy: 0.5000\n",
      "2/2 [==============================] - 0s 10ms/sample - loss: 0.4752 - accuracy: 0.5000\n",
      "2/2 [==============================] - 0s 13ms/sample - loss: 0.8067 - accuracy: 0.5000\n",
      "2/2 [==============================] - 0s 13ms/sample - loss: 0.8090 - accuracy: 0.5000\n",
      "2/2 [==============================] - 0s 7ms/sample - loss: 0.8090 - accuracy: 0.5000\n",
      "2/2 [==============================] - 0s 25ms/sample - loss: 1.2145 - accuracy: 0.5000\n",
      "2/2 [==============================] - 0s 5ms/sample - loss: 1.2123 - accuracy: 0.5000\n",
      "2/2 [==============================] - 0s 5ms/sample - loss: 1.2123 - accuracy: 0.5000\n",
      "2/2 [==============================] - 0s 12ms/sample - loss: 1.7220 - accuracy: 0.5000\n",
      "2/2 [==============================] - 0s 28ms/sample - loss: 1.7256 - accuracy: 0.5000\n",
      "2/2 [==============================] - 0s 13ms/sample - loss: 1.7256 - accuracy: 0.5000\n",
      "2/2 [==============================] - 0s 19ms/sample - loss: 0.2290 - accuracy: 1.0000\n",
      "2/2 [==============================] - 0s 11ms/sample - loss: 0.2290 - accuracy: 1.0000\n",
      "2/2 [==============================] - 0s 17ms/sample - loss: 0.2290 - accuracy: 1.0000\n",
      "2/2 [==============================] - 0s 13ms/sample - loss: 0.4757 - accuracy: 0.5000\n",
      "2/2 [==============================] - 0s 4ms/sample - loss: 0.4752 - accuracy: 0.5000\n",
      "2/2 [==============================] - 0s 20ms/sample - loss: 0.4752 - accuracy: 0.5000\n",
      "2/2 [==============================] - 0s 11ms/sample - loss: 0.8067 - accuracy: 0.5000\n",
      "2/2 [==============================] - 0s 20ms/sample - loss: 0.8090 - accuracy: 0.5000\n",
      "2/2 [==============================] - 0s 6ms/sample - loss: 0.8090 - accuracy: 0.5000\n",
      "2/2 [==============================] - 0s 5ms/sample - loss: 1.2145 - accuracy: 0.5000\n",
      "2/2 [==============================] - 0s 7ms/sample - loss: 1.2123 - accuracy: 0.5000\n",
      "2/2 [==============================] - 0s 5ms/sample - loss: 1.2123 - accuracy: 0.5000\n",
      "2/2 [==============================] - 0s 7ms/sample - loss: 1.7220 - accuracy: 0.5000\n",
      "2/2 [==============================] - 0s 11ms/sample - loss: 1.7256 - accuracy: 0.5000\n",
      "2/2 [==============================] - 0s 19ms/sample - loss: 1.7256 - accuracy: 0.5000\n",
      "2/2 [==============================] - 0s 7ms/sample - loss: 0.2290 - accuracy: 1.0000\n",
      "2/2 [==============================] - 0s 6ms/sample - loss: 0.2290 - accuracy: 1.0000\n",
      "2/2 [==============================] - 0s 17ms/sample - loss: 0.2290 - accuracy: 1.0000\n",
      "2/2 [==============================] - 0s 6ms/sample - loss: 0.4757 - accuracy: 0.5000\n",
      "2/2 [==============================] - 0s 16ms/sample - loss: 0.4752 - accuracy: 0.5000\n",
      "2/2 [==============================] - 0s 13ms/sample - loss: 0.4752 - accuracy: 0.5000\n",
      "2/2 [==============================] - 0s 13ms/sample - loss: 0.8067 - accuracy: 0.5000\n",
      "2/2 [==============================] - 0s 16ms/sample - loss: 0.8090 - accuracy: 0.5000\n",
      "2/2 [==============================] - 0s 10ms/sample - loss: 0.8090 - accuracy: 0.5000\n",
      "2/2 [==============================] - 0s 9ms/sample - loss: 1.2145 - accuracy: 0.5000\n",
      "2/2 [==============================] - 0s 19ms/sample - loss: 1.2123 - accuracy: 0.5000\n",
      "2/2 [==============================] - 0s 15ms/sample - loss: 1.2123 - accuracy: 0.5000\n",
      "2/2 [==============================] - 0s 15ms/sample - loss: 1.7220 - accuracy: 0.5000\n",
      "2/2 [==============================] - 0s 2ms/sample - loss: 1.7256 - accuracy: 0.5000\n",
      "2/2 [==============================] - 0s 4ms/sample - loss: 1.7256 - accuracy: 0.5000\n",
      "2/2 [==============================] - 0s 7ms/sample - loss: 0.2290 - accuracy: 1.0000\n",
      "2/2 [==============================] - 0s 2ms/sample - loss: 0.2290 - accuracy: 1.0000\n"
     ]
    },
    {
     "name": "stdout",
     "output_type": "stream",
     "text": [
      "2/2 [==============================] - 0s 2ms/sample - loss: 0.2290 - accuracy: 1.0000\n",
      "2/2 [==============================] - 0s 14ms/sample - loss: 0.4757 - accuracy: 0.5000\n",
      "2/2 [==============================] - 0s 2ms/sample - loss: 0.4752 - accuracy: 0.5000\n",
      "2/2 [==============================] - 0s 2ms/sample - loss: 0.4752 - accuracy: 0.5000\n",
      "2/2 [==============================] - 0s 33ms/sample - loss: 0.6321 - accuracy: 0.5000\n",
      "2/2 [==============================] - 0s 9ms/sample - loss: 0.6299 - accuracy: 0.5000\n",
      "2/2 [==============================] - 0s 6ms/sample - loss: 0.6299 - accuracy: 0.5000\n",
      "2/2 [==============================] - 0s 14ms/sample - loss: 0.6427 - accuracy: 0.5000\n",
      "2/2 [==============================] - 0s 22ms/sample - loss: 0.6452 - accuracy: 0.5000\n",
      "2/2 [==============================] - 0s 7ms/sample - loss: 0.6452 - accuracy: 0.5000\n"
     ]
    }
   ],
   "source": [
    "# Compute different attack sets\n",
    "\n",
    "nested_accuracies = []\n",
    "for method, eta, eps, n_steps, loss in iter_parameters_grid:\n",
    "    if eta >= eps:\n",
    "        # Does not make sense to test this parameters config\n",
    "        nested_accuracies.append([np.nan, np.nan])\n",
    "        continue\n",
    "    \n",
    "    x_adv = method(x_test, y_test, model, loss_fn=loss, eta=eta, eps=eps, n_steps=n_steps)\n",
    "    # Re-scaling image (they are normalized)\n",
    "    x_adv = tf.clip_by_value(x_adv, 0, 1)\n",
    "    list_eval = model.evaluate(x=x_adv, y=y_test)\n",
    "    # Clear memory\n",
    "    gc.collect()\n",
    "    tf.keras.backend.clear_session()\n",
    "    del x_adv\n",
    "      \n",
    "    nested_accuracies.append(list_eval)"
   ]
  },
  {
   "cell_type": "code",
   "execution_count": null,
   "metadata": {},
   "outputs": [],
   "source": [
    "index = pd.MultiIndex.from_product([list_method_names, list_eta, list_epsilon],\n",
    "                                   names=['method', 'tau', 'epsilon'])"
   ]
  },
  {
   "cell_type": "code",
   "execution_count": null,
   "metadata": {},
   "outputs": [],
   "source": [
    "# Graphs when step size is big\n",
    "index = pd.MultiIndex.from_product([list_method_names, list_eta, list_epsilon,\n",
    "                                    list_n_steps, [loss.name for loss in list_losses]],\n",
    "                                   names=['method', 'eta', 'epsilon', 'n_steps', 'loss_name'])\n",
    "\n",
    "df_results = pd.DataFrame(data=nested_accuracies,\n",
    "                          columns=['loss', 'accuracy'],\n",
    "                          index=index)"
   ]
  },
  {
   "cell_type": "code",
   "execution_count": null,
   "metadata": {},
   "outputs": [],
   "source": []
  },
  {
   "cell_type": "code",
   "execution_count": null,
   "metadata": {},
   "outputs": [],
   "source": [
    "df_results.dropna()"
   ]
  },
  {
   "cell_type": "code",
   "execution_count": null,
   "metadata": {},
   "outputs": [],
   "source": [
    "path = './data/df_results.pickle'\n",
    "import pickle\n",
    "with open(path, 'wb') as f:\n",
    "    pickle.dump(df_results, f)"
   ]
  }
 ],
 "metadata": {
  "kernelspec": {
   "display_name": "Python 3",
   "language": "python",
   "name": "python3"
  },
  "language_info": {
   "codemirror_mode": {
    "name": "ipython",
    "version": 3
   },
   "file_extension": ".py",
   "mimetype": "text/x-python",
   "name": "python",
   "nbconvert_exporter": "python",
   "pygments_lexer": "ipython3",
   "version": "3.7.7"
  }
 },
 "nbformat": 4,
 "nbformat_minor": 4
}
