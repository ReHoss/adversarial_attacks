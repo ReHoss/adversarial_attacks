{
 "cells": [
  {
   "cell_type": "markdown",
   "metadata": {},
   "source": [
    "# Grid Search"
   ]
  },
  {
   "cell_type": "code",
   "execution_count": 1,
   "metadata": {},
   "outputs": [],
   "source": [
    "import numpy as np\n",
    "import tensorflow as tf\n",
    "import itertools\n",
    "import pandas as pd\n",
    "# Own library\n",
    "import test2\n",
    "# Needed to clean memory\n",
    "import gc\n",
    "\n",
    "# To modify scipts remotly\n",
    "%load_ext autoreload\n",
    "%autoreload 2\n",
    "\n",
    "np.random.seed(94)\n",
    "tf.random.set_seed(94)\n",
    "(_, _), (x_test, y_test) = tf.keras.datasets.cifar10.load_data()\n",
    "x_test = x_test / 255.0\n",
    "x_test, y_test = tf.constant(x_test), tf.constant(y_test)\n",
    "\n",
    "n = 2\n",
    "x_test = x_test[:n]\n",
    "y_test = tf.squeeze(tf.one_hot(y_test[:n], 10))"
   ]
  },
  {
   "cell_type": "code",
   "execution_count": 2,
   "metadata": {},
   "outputs": [
    {
     "data": {
      "text/plain": [
       "<tf.Tensor: shape=(2, 1, 10), dtype=float32, numpy=\n",
       "array([[[0., 0., 0., 1., 0., 0., 0., 0., 0., 0.]],\n",
       "\n",
       "       [[0., 0., 0., 0., 0., 0., 0., 0., 1., 0.]]], dtype=float32)>"
      ]
     },
     "execution_count": 2,
     "metadata": {},
     "output_type": "execute_result"
    }
   ],
   "source": [
    "y_test"
   ]
  },
  {
   "cell_type": "code",
   "execution_count": 1,
   "metadata": {},
   "outputs": [],
   "source": [
    "path = 'data/model_cifar.h5'\n",
    "model = tf.keras.models.load_model(path)\n",
    "\n",
    "# Parameter space\n",
    "list_eta = np.append(np.power(0.1, [1, 2, 3, 4]), 1/255)\n",
    "list_epsilon = np.append(np.power(0.1, [0, 1, 2, 3, 4]), 1/255)\n",
    "list_n_steps = np.arange(1, 10, 2)\n",
    "list_losses = [tf.keras.losses.MeanSquaredError(),\n",
    "               tf.keras.losses.CategoricalCrossentropy(),\n",
    "               tf.keras.losses.KLDivergence()]\n",
    "\n",
    "list_methods = [test2.pgd_infinity, test2.pgd_ininity_random]\n",
    "\n",
    "# Generate parameters grid\n",
    "iter_parameters_grid = itertools.product(list_methods, list_eta, list_epsilon, list_n_steps, list_losses)\n",
    "\n",
    "\n",
    "# Names of methods\n",
    "list_method_names = ['pgd_infinity', 'pgd_random']\n",
    "\n",
    "# Compute different attack sets\n",
    "\n",
    "nested_accuracies = []\n",
    "for method, eta, eps, n_steps, loss in iter_parameters_grid:\n",
    "    if eta >= eps:\n",
    "        # Does not make sense to test this parameters config\n",
    "        nested_accuracies.append([np.nan, np.nan])\n",
    "        continue\n",
    "    \n",
    "    x_adv = method(x_test, y_test, model, loss_fn=loss, eta=eta, eps=eps, n_steps=n_steps)\n",
    "    # Re-scaling image (they are normalized)\n",
    "    x_adv = tf.clip_by_value(x_adv, 0, 1)\n",
    "    list_eval = model.evaluate(x=x_adv, y=y_test)\n",
    "    # Clear memory\n",
    "    gc.collect()\n",
    "    tf.keras.backend.clear_session()\n",
    "    del x_adv\n",
    "      \n",
    "    nested_accuracies.append(list_eval)\n",
    "\n",
    "index = pd.MultiIndex.from_product([list_method_names, list_eta, list_epsilon],\n",
    "                                   names=['method', 'tau', 'epsilon'])\n",
    "\n",
    "# Graphs when step size is big\n",
    "index = pd.MultiIndex.from_product([list_method_names, list_eta, list_epsilon,\n",
    "                                    list_n_steps, [loss.name for loss in list_losses]],\n",
    "                                   names=['method', 'eta', 'epsilon', 'n_steps', 'loss'])\n",
    "\n",
    "df_results = pd.DataFrame(data=nested_accuracies,\n",
    "                          columns=['loss', 'accuracy'],\n",
    "                          index=index)\n",
    "\n",
    "\n",
    "\n",
    "df_results.dropna()\n",
    "\n",
    "path = './data/df_results.pickle'\n",
    "import pickle\n",
    "with open(path, 'wb') as f:\n",
    "    pickle.dump(df_results, f)"
   ]
  }
 ],
 "metadata": {
  "kernelspec": {
   "display_name": "Python 3",
   "language": "python",
   "name": "python3"
  },
  "language_info": {
   "codemirror_mode": {
    "name": "ipython",
    "version": 3
   },
   "file_extension": ".py",
   "mimetype": "text/x-python",
   "name": "python",
   "nbconvert_exporter": "python",
   "pygments_lexer": "ipython3",
   "version": "3.7.7"
  }
 },
 "nbformat": 4,
 "nbformat_minor": 4
}
